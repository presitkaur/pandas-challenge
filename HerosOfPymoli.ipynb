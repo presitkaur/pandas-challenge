{
 "metadata": {
  "language_info": {
   "codemirror_mode": {
    "name": "ipython",
    "version": 3
   },
   "file_extension": ".py",
   "mimetype": "text/x-python",
   "name": "python",
   "nbconvert_exporter": "python",
   "pygments_lexer": "ipython3",
   "version": "3.8.5-final"
  },
  "orig_nbformat": 2,
  "kernelspec": {
   "name": "python385jvsc74a57bd0f68230855de34fbc1f1e1b102a7b521beacb83584710a0e7dced917824e6d9cf",
   "display_name": "Python 3.8.5 64-bit (conda)"
  }
 },
 "nbformat": 4,
 "nbformat_minor": 2,
 "cells": [
  {
   "cell_type": "code",
   "execution_count": null,
   "metadata": {},
   "outputs": [],
   "source": [
    "#Import the dependencies required as well as the resource file \n",
    "import pandas as pd \n",
    "import numpy as np "
   ]
  },
  {
   "cell_type": "code",
   "execution_count": null,
   "metadata": {},
   "outputs": [],
   "source": [
    "resource = \"Resources/purchase_data.csv\"\n",
    "purchasedata = pd.read_csv(resource)\n",
    "purchasedata.head(4);"
   ]
  },
  {
   "source": [
    "## Note\n",
    "\n",
    "Please refer to [this](https://github.com/presitkaur/pandas-challenge/blob/main/README.md) file for the instructions for this activity  "
   ],
   "cell_type": "markdown",
   "metadata": {}
  },
  {
   "source": [
    "# Player Count"
   ],
   "cell_type": "markdown",
   "metadata": {}
  },
  {
   "cell_type": "code",
   "execution_count": null,
   "metadata": {},
   "outputs": [],
   "source": [
    "#Find the total number of unique players within the \"SN\" column to find the total number of players\n",
    "total_players = len(purchasedata[\"SN\"].value_counts())\n",
    "\n",
    "#Create a dataframe using \"pd.DataFrame\"\n",
    "total_players_df = pd.DataFrame({\n",
    "    \"Total Players\" : [total_players]\n",
    "})\n",
    "\n",
    "total_players_df"
   ]
  },
  {
   "source": [
    "# Purchasing Analytics"
   ],
   "cell_type": "markdown",
   "metadata": {}
  },
  {
   "cell_type": "code",
   "execution_count": null,
   "metadata": {},
   "outputs": [],
   "source": [
    "#Find the number of unique items by running the \"len\" command on the \"Item ID\" column of the resource file\n",
    "unique_items = len((purchasedata[\"Item ID\"]).unique())\n",
    "\n",
    "\n",
    "#The average price can be found by running the \".mean()\" function on the \"price column\"\n",
    "avgprice = purchasedata[\"Price\"].mean()\n",
    "## Format the infromation stored in the \"avgprice\" variable to increase readability\n",
    "avgprice = \"${:.2f}\".format(avgprice)\n",
    "\n",
    "\n",
    "#Thr \".count()\" function will find the total of the rows in the \"Purchase ID\" column\n",
    "num_purchases = purchasedata[\"Purchase ID\"].count()\n",
    "\n",
    "\n",
    "#The total revenue is found through the sum of all the values in the \"Price\" column\n",
    "revenue = purchasedata[\"Price\"].sum()\n",
    "## Format the infromation stored in the \"avgprice\" variable to increase readability\n",
    "revenue = \"${:.2f}\".format(revenue)\n",
    "\n",
    "\n",
    "#Construct the dataframe for the information found\n",
    "purchase_analytics_df = pd.DataFrame({\n",
    "    \"Number of Unique Items\" : [unique_items],\n",
    "    \"Average Price\" : [avgprice],\n",
    "    \"Number of Purchases\" : [num_purchases],\n",
    "    \"Total Revenue\" : [revenue]\n",
    "})\n",
    "\n",
    "\n",
    "#Display the dataframe\n",
    "purchase_analytics_df"
   ]
  },
  {
   "source": [
    "# Gender Demographics "
   ],
   "cell_type": "markdown",
   "metadata": {}
  },
  {
   "cell_type": "code",
   "execution_count": null,
   "metadata": {},
   "outputs": [],
   "source": [
    "#Collect the data in the \"Gender\" column and split the data in the resource file into variables based on the genders listed.\n",
    "male_data = purchasedata[purchasedata.Gender == \"Male\"]\n",
    "female_data = purchasedata[purchasedata.Gender == \"Female\"]\n",
    "other_gender_data = purchasedata[purchasedata.Gender == \"Other / Non-Disclosed\"]\n",
    "\n",
    "\n",
    "#Find the total number of unique players for each gender \n",
    "##Acheieved through running the \"unique()\" function on the \"SN\" column \n",
    "male_count = len(male_data.SN.unique())\n",
    "female_count = len(female_data.SN.unique())\n",
    "other_count = len(other_gender_data.SN.unique())\n",
    "\n",
    "\n",
    "#Find the percentage of total players by dividing the count for each gender by the total number of players \n",
    "male_percent = (male_count/total_players)*100\n",
    "female_percent = (female_count/total_players)*100\n",
    "other_percent = (other_count/total_players)*100\n",
    "\n",
    "#Format the percentages to increase readability \n",
    "male_percent = \"{:.2f}%\".format(male_percent)\n",
    "female_percent = \"{:.2f}%\".format(female_percent)\n",
    "other_percent = \"{:.2f}%\".format(other_percent)\n",
    "\n",
    "\n",
    "#Construct a dataframe for the information collected \n",
    "gender_demographics = pd.DataFrame({\n",
    "    \"Total Unique Players (Count)\": [male_count, female_count, other_count],\n",
    "    \"Percentage of the Total\": [male_percent,female_percent,other_percent]},\n",
    "    index = [\"Male\", \"Female\", \"Other/ Non-Disclosed\"])\n",
    "\n",
    "#Display the dataframe\n",
    "gender_demographics"
   ]
  },
  {
   "source": [
    "# Purchasing Analytics (Gender)"
   ],
   "cell_type": "markdown",
   "metadata": {}
  },
  {
   "cell_type": "code",
   "execution_count": null,
   "metadata": {},
   "outputs": [],
   "source": [
    "#Count of the total purchases made by each gender can be found by using the \".count()\" function on the \"Purchase ID\" column\n",
    "male_purchase_count = male_data[\"Purchase ID\"].count()\n",
    "female_purchase_count = female_data[\"Purchase ID\"].count()\n",
    "other_purchase_count = other_gender_data[\"Purchase ID\"].count()\n",
    "\n",
    "\n",
    "#Find the average purchase price for each gender by using the \".mean()\" function on the \"Price\" column\n",
    "avg_price_male = male_data[\"Price\"].mean()\n",
    "avg_price_female = female_data[\"Price\"].mean()\n",
    "avg_price_other = other_gender_data[\"Price\"].mean()\n",
    "\n",
    "\n",
    "#Total purchase value for each gender is found by using the \".sum()\" function on the \"Price\" column\n",
    "purchase_value_male = male_data[\"Price\"].sum()\n",
    "purchase_value_female = female_data[\"Price\"].sum()\n",
    "purchase_value_other = other_gender_data[\"Price\"].sum()\n",
    "\n",
    "\n",
    "#The avergage purchase for each individual based on their gender can be found by dividing \"purchase_value_[GENDER]\" by the toal number of players for each gender \n",
    "avg_per_person_male = purchase_value_male/male_count\n",
    "avg_per_person_female = purchase_value_female/female_count\n",
    "avg_per_person_other = purchase_value_other/other_count\n",
    "\n",
    "\n",
    "#Create a dataframe for the information collected \n",
    "gender_purchasing_analytics_df = pd.DataFrame({\n",
    "    \"Total Number of Purchases\" : [male_purchase_count,female_purchase_count,other_purchase_count],\n",
    "    \"Total Purchase Value\": [purchase_value_male,purchase_value_female,purchase_value_other],\n",
    "    \"Average Purchase Price\": [avg_price_male,avg_price_female,avg_price_other],\n",
    "    \"Average Total Purchase Price Per Person\": [avg_per_person_male,avg_per_person_female,avg_per_person_other]},\n",
    "    index = [\"Male\", \"Female\", \"Other/ Non-Disclosed\"])\n",
    "\n",
    "#Format appropriate columns to enhance readability \n",
    "gender_purchasing_analytics_df = gender_purchasing_analytics_df.style.format({\"Total Purchase Value\":\"${:,.2f}\",\n",
    "                                  \"Average Purchase Price\":\"${:,.2f}\",\n",
    "                                  \"Average Total Purchase Price Per Person\":\"${:,.2f}\"})\n",
    "\n",
    "#Provide the index row \n",
    "gender_purchasing_analytics_df.index.name = \"Gender\"\n",
    "\n",
    "#Display the finalised dataframe \n",
    "gender_purchasing_analytics_df"
   ]
  },
  {
   "source": [
    "# Age Demographics "
   ],
   "cell_type": "markdown",
   "metadata": {}
  },
  {
   "cell_type": "code",
   "execution_count": null,
   "metadata": {},
   "outputs": [],
   "source": [
    "#Create the bins required for this part of the analysis \n",
    "bins = [ 0, 9.99, 14.99, 19.99, 24.99, 29.99, 34.99, 39.99, 1000]\n",
    "\n",
    "\n",
    "#Create the labels for the age groups \n",
    "age_groups = [\"<10\", \"10-14\", \"15-19\", \"20-24\", \"25-29\", \"30-34\", \"35-39\", \"40+\"]\n",
    "\n",
    "\n",
    "#Append a new column to the original data called \"Age Group\" and sort the values in the \"Age\" column of the original data based on the bins and labels created above \n",
    "purchasedata[\"Age Group\"] = pd.cut(purchasedata[\"Age\"], bins, labels=age_groups)\n",
    "\n",
    "#Run the \"groupby\" function on the \"Age Group\" column, creating a new dataframe that is sorted by age group\n",
    "grouped_age = purchasedata.groupby(\"Age Group\")\n",
    "grouped_age\n",
    "\n",
    "#The total number of players in each age group is found by using the \".nunique()\" function on the \"SN\" column\n",
    "total_players_age = grouped_age[\"SN\"].nunique()\n",
    "\n",
    "\n",
    "#Calculate the percentage of players for each category \n",
    "age_bins_percentage = (total_players_age/total_players)*100\n",
    "\n",
    "#Create a dataframe from the information collected \n",
    "age_demographics_df = pd.DataFrame({\n",
    "    \"Total Players\" : total_players_age,\n",
    "    \"Percentage of Players\": age_bins_percentage\n",
    "})\n",
    "\n",
    "# Format percentage with two decimal places \n",
    "age_demographics_df = age_demographics_df.style.format({\"Percentage of Players\":\"{:,.2f}%\"})\n",
    "\n",
    "#Remove the index row \n",
    "age_demographics_df.index.name = None\n",
    "\n",
    "#Display the data frame\n",
    "age_demographics_df"
   ]
  },
  {
   "source": [
    "# Purchasing Analytics (Age)"
   ],
   "cell_type": "markdown",
   "metadata": {}
  },
  {
   "cell_type": "code",
   "execution_count": null,
   "metadata": {},
   "outputs": [],
   "source": [
    "#Find the total number of purchases made by each age group by usinh \".count()\" on the \"purchase ID\" column \n",
    "purchase_count_by_age = grouped_age[\"Purchase ID\"].count()\n",
    "\n",
    "\n",
    "#find the total purchase value for each age group with the following\n",
    "total_purchase_val_age = grouped_age[\"Price\"].sum()\n",
    "\n",
    "\n",
    "#The average purchase price for each age group can be calculated by using the \".mean()\" function on the \"Price column\"\n",
    "avg_pur_price_by_age = grouped_age[\"Price\"].mean()\n",
    "\n",
    "\n",
    "#The average purchase value per person can be found by the following calculaion\n",
    "purchase_per_person_age = (total_purchase_val_age/\n",
    "total_players_age)\n",
    "\n",
    "\n",
    "#Create a dataframe from the information collected \n",
    "age_purchasing_analytics_df = pd.DataFrame({\n",
    "    \"Total Number of Purchases\": purchase_count_by_age,\n",
    "    \"Total Purchase Value\": total_purchase_val_age,\n",
    "    \"Average Purchase Price\": avg_pur_price_by_age,\n",
    "    \"Average Total Purchase per Person\": purchase_per_person_age\n",
    "})\n",
    "\n",
    "#Format the appropriate columns \n",
    "age_purchasing_analytics_df = age_purchasing_analytics_df.style.format({\n",
    "    \"Total Purchase Value\": \"${:,.2f}\",\n",
    "    \"Average Purchase Price\": \"${:,.2f}\",\n",
    "    \"Average Total Purchase per Person\": \"${:,.2f}\"\n",
    "})\n",
    "\n",
    "#Display the dataframe \n",
    "age_purchasing_analytics_df"
   ]
  },
  {
   "source": [
    "# Top Spenders "
   ],
   "cell_type": "markdown",
   "metadata": {}
  },
  {
   "cell_type": "code",
   "execution_count": null,
   "metadata": {},
   "outputs": [],
   "source": [
    "#Group the original data by \"SN\"\n",
    "sn_data = purchasedata.groupby(\"SN\")\n",
    "\n",
    "\n",
    "#Find the total number of purchases for each username bu using \".count()\" on the \"Purchase ID\" column\n",
    "spender_count = sn_data[\"Purchase ID\"].count()\n",
    "\n",
    "\n",
    "#Find the total amount of money spend by each SN \n",
    "spender_total = sn_data[\"Price\"].sum()\n",
    "\n",
    "\n",
    "#Find the average purchase amount for each SN \n",
    "spender_avg = sn_data[\"Price\"].mean()\n",
    "\n",
    "\n",
    "#Create a dataframe based on the infromation collected \n",
    "top_spenders = pd.DataFrame ({\n",
    "    \"Total Purchase Count\": spender_count,\n",
    "    \"Total Purchase Amount\": spender_total,\n",
    "    \"Average Purchase Price\": spender_avg\n",
    "})\n",
    "\n",
    "#Filter the new dataframe so that the data for the top 5 SN's in \"Total Purchase Amount\" are seen\n",
    "top_spenders = top_spenders.sort_values([\"Total Purchase Amount\"], ascending=False).head(5)\n",
    "\n",
    "#Apply formatting to appropriate columns \n",
    "top_spenders = top_spenders.style.format({\"Total Purchase Amount\":\"${:,.2f}\",\n",
    "                                 \"Average Purchase Price\":\"${:,.2f}\"})\n",
    "\n",
    "#Display the new Data Frame \n",
    "top_spenders"
   ]
  },
  {
   "source": [
    "# Most Popular Items"
   ],
   "cell_type": "markdown",
   "metadata": {}
  },
  {
   "cell_type": "code",
   "execution_count": null,
   "metadata": {},
   "outputs": [],
   "source": [
    "#Create a new dataframe with the columsn that pertain to the analysis required for this part \n",
    "new_df = purchasedata[[\"Item ID\", \"Item Name\", \"Price\"]]\n",
    "\n",
    "\n",
    "#Use the groupby  function to later find the various statistics required \n",
    "items_df = new_df.groupby([\"Item ID\", \"Item Name\"])\n",
    "\n",
    "\n",
    "#Find the purchase count by using the \".count()\" function on the newly grouped dataframe \n",
    "pop_total_purchases = items_df[\"Price\"].count()\n",
    "\n",
    "\n",
    "#Calculate the total purchase value for each item by uding \".sum()\" on the \"Price\" column\n",
    "pop_purchase_val = items_df[\"Price\"].sum()\n",
    "\n",
    "\n",
    "#Individual item price calculation is as follows \n",
    "pop_item_price = pop_purchase_val/pop_total_purchases\n",
    "\n",
    "\n",
    "#Create a dataframe from the obtained values \n",
    "most_popular_df = pd.DataFrame({\n",
    "    \"Purchase Count\": pop_total_purchases,\n",
    "    \"Total Purchases Value\": pop_purchase_val,\n",
    "    \"Individual Item Cost\": pop_item_price\n",
    "})   \n",
    "\n",
    "#Sort the dataframe so that only the top 5 results are seen \n",
    "most_popular_df = most_popular_df.sort_values([\"Purchase Count\"], ascending=False).head(5)\n",
    "\n",
    "#Applly formatting to the appropriate column \n",
    "most_popular_df = most_popular_df.style.format({\"Total Purchases Value\":\"${:,.2f}\",\n",
    "                                 \"Individual Item Cost\":\"${:,.2f}\"})\n",
    "\n",
    "#Display the final table \n",
    "most_popular_df"
   ]
  },
  {
   "source": [
    "# Most Profitable Items "
   ],
   "cell_type": "markdown",
   "metadata": {}
  },
  {
   "cell_type": "code",
   "execution_count": null,
   "metadata": {},
   "outputs": [],
   "source": [
    "#Bring in the information from the previous part and create a dataframe for all the games instead of the top five \n",
    "most_profitable_df = pd.DataFrame({\n",
    "    \"Purchase Count\": pop_total_purchases,\n",
    "    \"Total Purchases Value\": pop_purchase_val,\n",
    "    \"Individual Item Cost\": pop_item_price\n",
    "})\n",
    "\n",
    "\n",
    "#Sort the \"Total Purchases Value\" column into decending order and display only the first five games\n",
    "most_profitable_df = most_profitable_df.sort_values([\"Total Purchases Value\"], ascending=False).head(5)\n",
    "\n",
    "\n",
    "#Format the releveant columns\n",
    "most_profitable_df = most_profitable_df.style.format({\"Total Purchases Value\":\"${:,.2f}\",\n",
    "                                 \"Individual Item Cost\":\"${:,.2f}\"})\n",
    " \n",
    "#Display the final dataframe \n",
    "most_profitable_df"
   ]
  }
 ]
}