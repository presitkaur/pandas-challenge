{
 "metadata": {
  "language_info": {
   "codemirror_mode": {
    "name": "ipython",
    "version": 3
   },
   "file_extension": ".py",
   "mimetype": "text/x-python",
   "name": "python",
   "nbconvert_exporter": "python",
   "pygments_lexer": "ipython3",
   "version": "3.8.5-final"
  },
  "orig_nbformat": 2,
  "kernelspec": {
   "name": "python385jvsc74a57bd0f68230855de34fbc1f1e1b102a7b521beacb83584710a0e7dced917824e6d9cf",
   "display_name": "Python 3.8.5 64-bit (conda)"
  }
 },
 "nbformat": 4,
 "nbformat_minor": 2,
 "cells": [
  {
   "cell_type": "code",
   "execution_count": 2,
   "metadata": {},
   "outputs": [],
   "source": [
    "#Import the dependencies required as well as the resource file \n",
    "import pandas as pd \n",
    "import numpy as np "
   ]
  },
  {
   "cell_type": "code",
   "execution_count": 3,
   "metadata": {},
   "outputs": [],
   "source": [
    "resource = \"Resources/purchase_data.csv\"\n",
    "purchasedata = pd.read_csv(resource)\n",
    "purchasedata.head(4);"
   ]
  },
  {
   "source": [
    "# Player Count"
   ],
   "cell_type": "markdown",
   "metadata": {}
  },
  {
   "cell_type": "code",
   "execution_count": 4,
   "metadata": {},
   "outputs": [
    {
     "output_type": "execute_result",
     "data": {
      "text/plain": [
       "   Total Players\n",
       "0            576"
      ],
      "text/html": "<div>\n<style scoped>\n    .dataframe tbody tr th:only-of-type {\n        vertical-align: middle;\n    }\n\n    .dataframe tbody tr th {\n        vertical-align: top;\n    }\n\n    .dataframe thead th {\n        text-align: right;\n    }\n</style>\n<table border=\"1\" class=\"dataframe\">\n  <thead>\n    <tr style=\"text-align: right;\">\n      <th></th>\n      <th>Total Players</th>\n    </tr>\n  </thead>\n  <tbody>\n    <tr>\n      <th>0</th>\n      <td>576</td>\n    </tr>\n  </tbody>\n</table>\n</div>"
     },
     "metadata": {},
     "execution_count": 4
    }
   ],
   "source": [
    "#Find the total number of unique players within the \"SN\" column to find the total number of players\n",
    "total_players = len(purchasedata[\"SN\"].value_counts())\n",
    "\n",
    "#Create a dataframe using \"pd.DataFrame\"\n",
    "total_players_df = pd.DataFrame({\n",
    "    \"Total Players\" : [total_players]\n",
    "})\n",
    "\n",
    "total_players_df"
   ]
  },
  {
   "source": [
    "# Purchasing Analytics"
   ],
   "cell_type": "markdown",
   "metadata": {}
  },
  {
   "cell_type": "code",
   "execution_count": 8,
   "metadata": {},
   "outputs": [
    {
     "output_type": "execute_result",
     "data": {
      "text/plain": [
       "   Number of Unique Items Average Price  Number of Purchases Total Revenue\n",
       "0                     179         $3.05                  780      $2379.77"
      ],
      "text/html": "<div>\n<style scoped>\n    .dataframe tbody tr th:only-of-type {\n        vertical-align: middle;\n    }\n\n    .dataframe tbody tr th {\n        vertical-align: top;\n    }\n\n    .dataframe thead th {\n        text-align: right;\n    }\n</style>\n<table border=\"1\" class=\"dataframe\">\n  <thead>\n    <tr style=\"text-align: right;\">\n      <th></th>\n      <th>Number of Unique Items</th>\n      <th>Average Price</th>\n      <th>Number of Purchases</th>\n      <th>Total Revenue</th>\n    </tr>\n  </thead>\n  <tbody>\n    <tr>\n      <th>0</th>\n      <td>179</td>\n      <td>$3.05</td>\n      <td>780</td>\n      <td>$2379.77</td>\n    </tr>\n  </tbody>\n</table>\n</div>"
     },
     "metadata": {},
     "execution_count": 8
    }
   ],
   "source": [
    "#Find the number of unique items by running the \"len\" command on the \"Item ID\" column of the resource file\n",
    "unique_items = len((purchasedata[\"Item ID\"]).unique())\n",
    "\n",
    "\n",
    "#The average price can be found by running the \".mean()\" function on the \"price column\"\n",
    "avgprice = purchasedata[\"Price\"].mean()\n",
    "## Format the infromation stored in the \"avgprice\" variable to increase readability\n",
    "avgprice = \"${:.2f}\".format(avgprice)\n",
    "\n",
    "\n",
    "#Thr \".count()\" function will find the total of the rows in the \"Purchase ID\" column\n",
    "num_purchases = purchasedata[\"Purchase ID\"].count()\n",
    "\n",
    "\n",
    "#The total revenue is found through the sum of all the values in the \"Price\" column\n",
    "revenue = purchasedata[\"Price\"].sum()\n",
    "## Format the infromation stored in the \"avgprice\" variable to increase readability\n",
    "revenue = \"${:.2f}\".format(revenue)\n",
    "\n",
    "\n",
    "#Construct the dataframe for the information found\n",
    "purchase_analytics_df = pd.DataFrame({\n",
    "    \"Number of Unique Items\" : [unique_items],\n",
    "    \"Average Price\" : [avgprice],\n",
    "    \"Number of Purchases\" : [num_purchases],\n",
    "    \"Total Revenue\" : [revenue]\n",
    "})\n",
    "\n",
    "\n",
    "#Display the dataframe\n",
    "purchase_analytics_df"
   ]
  },
  {
   "source": [
    "# Gender Demographics "
   ],
   "cell_type": "markdown",
   "metadata": {}
  },
  {
   "cell_type": "code",
   "execution_count": 12,
   "metadata": {},
   "outputs": [
    {
     "output_type": "execute_result",
     "data": {
      "text/plain": [
       "                      Total Unique Players (Count) Percentage of the Total\n",
       "Male                                           484                  84.03%\n",
       "Female                                          81                  14.06%\n",
       "Other/ Non-Disclosed                            11                   1.91%"
      ],
      "text/html": "<div>\n<style scoped>\n    .dataframe tbody tr th:only-of-type {\n        vertical-align: middle;\n    }\n\n    .dataframe tbody tr th {\n        vertical-align: top;\n    }\n\n    .dataframe thead th {\n        text-align: right;\n    }\n</style>\n<table border=\"1\" class=\"dataframe\">\n  <thead>\n    <tr style=\"text-align: right;\">\n      <th></th>\n      <th>Total Unique Players (Count)</th>\n      <th>Percentage of the Total</th>\n    </tr>\n  </thead>\n  <tbody>\n    <tr>\n      <th>Male</th>\n      <td>484</td>\n      <td>84.03%</td>\n    </tr>\n    <tr>\n      <th>Female</th>\n      <td>81</td>\n      <td>14.06%</td>\n    </tr>\n    <tr>\n      <th>Other/ Non-Disclosed</th>\n      <td>11</td>\n      <td>1.91%</td>\n    </tr>\n  </tbody>\n</table>\n</div>"
     },
     "metadata": {},
     "execution_count": 12
    }
   ],
   "source": [
    "#Collect the data in the \"Gender\" column and split the data in the resource file into variables based on the genders listed.\n",
    "male_data = purchasedata[purchasedata.Gender == \"Male\"]\n",
    "female_data = purchasedata[purchasedata.Gender == \"Female\"]\n",
    "other_gender_data = purchasedata[purchasedata.Gender == \"Other / Non-Disclosed\"]\n",
    "\n",
    "\n",
    "#Find the total number of unique players for each gender \n",
    "##Acheieved through running the \"unique()\" function on the \"SN\" column \n",
    "male_count = len(male_data.SN.unique())\n",
    "female_count = len(female_data.SN.unique())\n",
    "other_count = len(other_gender_data.SN.unique())\n",
    "\n",
    "\n",
    "#Find the percentage of total players by dividing the count for each gender by the total number of players \n",
    "male_percent = (male_count/total_players)*100\n",
    "female_percent = (female_count/total_players)*100\n",
    "other_percent = (other_count/total_players)*100\n",
    "\n",
    "#Format the percentages to increase readability \n",
    "male_percent = \"{:.2f}%\".format(male_percent)\n",
    "female_percent = \"{:.2f}%\".format(female_percent)\n",
    "other_percent = \"{:.2f}%\".format(other_percent)\n",
    "\n",
    "\n",
    "#Construct a dataframe for the information collected \n",
    "gender_demographics = pd.DataFrame({\n",
    "    \"Total Unique Players (Count)\": [male_count, female_count, other_count],\n",
    "    \"Percentage of the Total\": [male_percent,female_percent,other_percent]},\n",
    "    index = [\"Male\", \"Female\", \"Other/ Non-Disclosed\"])\n",
    "\n",
    "#Display the dataframe\n",
    "gender_demographics"
   ]
  },
  {
   "source": [
    "# Purchasing Analytics (Gender)"
   ],
   "cell_type": "markdown",
   "metadata": {}
  },
  {
   "cell_type": "code",
   "execution_count": 20,
   "metadata": {},
   "outputs": [
    {
     "output_type": "execute_result",
     "data": {
      "text/plain": [
       "<pandas.io.formats.style.Styler at 0x16d952b3bb0>"
      ],
      "text/html": "<style  type=\"text/css\" >\n</style><table id=\"T_6e60ab2f_9587_11eb_9fbb_e442a651922f\" ><thead>    <tr>        <th class=\"blank level0\" ></th>        <th class=\"col_heading level0 col0\" >Total Number of Purchases</th>        <th class=\"col_heading level0 col1\" >Total Purchase Value</th>        <th class=\"col_heading level0 col2\" >Average Purchase Price</th>        <th class=\"col_heading level0 col3\" >Average Total Purchase Price Per Person</th>    </tr>    <tr>        <th class=\"index_name level0\" >Gender</th>        <th class=\"blank\" ></th>        <th class=\"blank\" ></th>        <th class=\"blank\" ></th>        <th class=\"blank\" ></th>    </tr></thead><tbody>\n                <tr>\n                        <th id=\"T_6e60ab2f_9587_11eb_9fbb_e442a651922flevel0_row0\" class=\"row_heading level0 row0\" >Male</th>\n                        <td id=\"T_6e60ab2f_9587_11eb_9fbb_e442a651922frow0_col0\" class=\"data row0 col0\" >652</td>\n                        <td id=\"T_6e60ab2f_9587_11eb_9fbb_e442a651922frow0_col1\" class=\"data row0 col1\" >$1,967.64</td>\n                        <td id=\"T_6e60ab2f_9587_11eb_9fbb_e442a651922frow0_col2\" class=\"data row0 col2\" >$3.02</td>\n                        <td id=\"T_6e60ab2f_9587_11eb_9fbb_e442a651922frow0_col3\" class=\"data row0 col3\" >$4.07</td>\n            </tr>\n            <tr>\n                        <th id=\"T_6e60ab2f_9587_11eb_9fbb_e442a651922flevel0_row1\" class=\"row_heading level0 row1\" >Female</th>\n                        <td id=\"T_6e60ab2f_9587_11eb_9fbb_e442a651922frow1_col0\" class=\"data row1 col0\" >113</td>\n                        <td id=\"T_6e60ab2f_9587_11eb_9fbb_e442a651922frow1_col1\" class=\"data row1 col1\" >$361.94</td>\n                        <td id=\"T_6e60ab2f_9587_11eb_9fbb_e442a651922frow1_col2\" class=\"data row1 col2\" >$3.20</td>\n                        <td id=\"T_6e60ab2f_9587_11eb_9fbb_e442a651922frow1_col3\" class=\"data row1 col3\" >$4.47</td>\n            </tr>\n            <tr>\n                        <th id=\"T_6e60ab2f_9587_11eb_9fbb_e442a651922flevel0_row2\" class=\"row_heading level0 row2\" >Other/ Non-Disclosed</th>\n                        <td id=\"T_6e60ab2f_9587_11eb_9fbb_e442a651922frow2_col0\" class=\"data row2 col0\" >15</td>\n                        <td id=\"T_6e60ab2f_9587_11eb_9fbb_e442a651922frow2_col1\" class=\"data row2 col1\" >$50.19</td>\n                        <td id=\"T_6e60ab2f_9587_11eb_9fbb_e442a651922frow2_col2\" class=\"data row2 col2\" >$3.35</td>\n                        <td id=\"T_6e60ab2f_9587_11eb_9fbb_e442a651922frow2_col3\" class=\"data row2 col3\" >$4.56</td>\n            </tr>\n    </tbody></table>"
     },
     "metadata": {},
     "execution_count": 20
    }
   ],
   "source": [
    "#Count of the total purchases made by each gender can be found by using the \".count()\" function on the \"Purchase ID\" column\n",
    "male_purchase_count = male_data[\"Purchase ID\"].count()\n",
    "female_purchase_count = female_data[\"Purchase ID\"].count()\n",
    "other_purchase_count = other_gender_data[\"Purchase ID\"].count()\n",
    "\n",
    "\n",
    "#Find the average purchase price for each gender by using the \".mean()\" function on the \"Price\" column\n",
    "avg_price_male = male_data[\"Price\"].mean()\n",
    "avg_price_female = female_data[\"Price\"].mean()\n",
    "avg_price_other = other_gender_data[\"Price\"].mean()\n",
    "\n",
    "\n",
    "#Total purchase value for each gender is found by using the \".sum()\" function on the \"Price\" column\n",
    "purchase_value_male = male_data[\"Price\"].sum()\n",
    "purchase_value_female = female_data[\"Price\"].sum()\n",
    "purchase_value_other = other_gender_data[\"Price\"].sum()\n",
    "\n",
    "\n",
    "#The avergage purchase for each individual based on their gender can be found by dividing \"purchase_value_[GENDER]\" by the toal number of players for each gender \n",
    "avg_per_person_male = purchase_value_male/male_count\n",
    "avg_per_person_female = purchase_value_female/female_count\n",
    "avg_per_person_other = purchase_value_other/other_count\n",
    "\n",
    "\n",
    "#Create a dataframe for the information collected \n",
    "gender_purchasing_analytics_df = pd.DataFrame({\n",
    "    \"Total Number of Purchases\" : [male_purchase_count,female_purchase_count,other_purchase_count],\n",
    "    \"Total Purchase Value\": [purchase_value_male,purchase_value_female,purchase_value_other],\n",
    "    \"Average Purchase Price\": [avg_price_male,avg_price_female,avg_price_other],\n",
    "    \"Average Total Purchase Price Per Person\": [avg_per_person_male,avg_per_person_female,avg_per_person_other]},\n",
    "    index = [\"Male\", \"Female\", \"Other/ Non-Disclosed\"])\n",
    "\n",
    "#Format appropriate columns to enhance readability \n",
    "gender_purchasing_analytics_df = gender_purchasing_analytics_df.style.format({\"Total Purchase Value\":\"${:,.2f}\",\n",
    "                                  \"Average Purchase Price\":\"${:,.2f}\",\n",
    "                                  \"Average Total Purchase Price Per Person\":\"${:,.2f}\"})\n",
    "\n",
    "#Provide the index row \n",
    "gender_purchasing_analytics_df.index.name = \"Gender\"\n",
    "\n",
    "#Display the finalised dataframe \n",
    "gender_purchasing_analytics_df"
   ]
  },
  {
   "source": [
    "# Age Demographics "
   ],
   "cell_type": "markdown",
   "metadata": {}
  },
  {
   "cell_type": "code",
   "execution_count": 34,
   "metadata": {},
   "outputs": [
    {
     "output_type": "execute_result",
     "data": {
      "text/plain": [
       "<pandas.io.formats.style.Styler at 0x16d96d41130>"
      ],
      "text/html": "<style  type=\"text/css\" >\n</style><table id=\"T_6d3b1c7b_958c_11eb_b94c_e442a651922f\" ><thead>    <tr>        <th class=\"blank level0\" ></th>        <th class=\"col_heading level0 col0\" >Total Players</th>        <th class=\"col_heading level0 col1\" >Percentage of Players</th>    </tr>    <tr>        <th class=\"index_name level0\" >Age Group</th>        <th class=\"blank\" ></th>        <th class=\"blank\" ></th>    </tr></thead><tbody>\n                <tr>\n                        <th id=\"T_6d3b1c7b_958c_11eb_b94c_e442a651922flevel0_row0\" class=\"row_heading level0 row0\" ><10</th>\n                        <td id=\"T_6d3b1c7b_958c_11eb_b94c_e442a651922frow0_col0\" class=\"data row0 col0\" >17</td>\n                        <td id=\"T_6d3b1c7b_958c_11eb_b94c_e442a651922frow0_col1\" class=\"data row0 col1\" >2.95%</td>\n            </tr>\n            <tr>\n                        <th id=\"T_6d3b1c7b_958c_11eb_b94c_e442a651922flevel0_row1\" class=\"row_heading level0 row1\" >10-14</th>\n                        <td id=\"T_6d3b1c7b_958c_11eb_b94c_e442a651922frow1_col0\" class=\"data row1 col0\" >22</td>\n                        <td id=\"T_6d3b1c7b_958c_11eb_b94c_e442a651922frow1_col1\" class=\"data row1 col1\" >3.82%</td>\n            </tr>\n            <tr>\n                        <th id=\"T_6d3b1c7b_958c_11eb_b94c_e442a651922flevel0_row2\" class=\"row_heading level0 row2\" >15-19</th>\n                        <td id=\"T_6d3b1c7b_958c_11eb_b94c_e442a651922frow2_col0\" class=\"data row2 col0\" >107</td>\n                        <td id=\"T_6d3b1c7b_958c_11eb_b94c_e442a651922frow2_col1\" class=\"data row2 col1\" >18.58%</td>\n            </tr>\n            <tr>\n                        <th id=\"T_6d3b1c7b_958c_11eb_b94c_e442a651922flevel0_row3\" class=\"row_heading level0 row3\" >20-24</th>\n                        <td id=\"T_6d3b1c7b_958c_11eb_b94c_e442a651922frow3_col0\" class=\"data row3 col0\" >258</td>\n                        <td id=\"T_6d3b1c7b_958c_11eb_b94c_e442a651922frow3_col1\" class=\"data row3 col1\" >44.79%</td>\n            </tr>\n            <tr>\n                        <th id=\"T_6d3b1c7b_958c_11eb_b94c_e442a651922flevel0_row4\" class=\"row_heading level0 row4\" >25-29</th>\n                        <td id=\"T_6d3b1c7b_958c_11eb_b94c_e442a651922frow4_col0\" class=\"data row4 col0\" >77</td>\n                        <td id=\"T_6d3b1c7b_958c_11eb_b94c_e442a651922frow4_col1\" class=\"data row4 col1\" >13.37%</td>\n            </tr>\n            <tr>\n                        <th id=\"T_6d3b1c7b_958c_11eb_b94c_e442a651922flevel0_row5\" class=\"row_heading level0 row5\" >30-34</th>\n                        <td id=\"T_6d3b1c7b_958c_11eb_b94c_e442a651922frow5_col0\" class=\"data row5 col0\" >52</td>\n                        <td id=\"T_6d3b1c7b_958c_11eb_b94c_e442a651922frow5_col1\" class=\"data row5 col1\" >9.03%</td>\n            </tr>\n            <tr>\n                        <th id=\"T_6d3b1c7b_958c_11eb_b94c_e442a651922flevel0_row6\" class=\"row_heading level0 row6\" >35-39</th>\n                        <td id=\"T_6d3b1c7b_958c_11eb_b94c_e442a651922frow6_col0\" class=\"data row6 col0\" >31</td>\n                        <td id=\"T_6d3b1c7b_958c_11eb_b94c_e442a651922frow6_col1\" class=\"data row6 col1\" >5.38%</td>\n            </tr>\n            <tr>\n                        <th id=\"T_6d3b1c7b_958c_11eb_b94c_e442a651922flevel0_row7\" class=\"row_heading level0 row7\" >40+</th>\n                        <td id=\"T_6d3b1c7b_958c_11eb_b94c_e442a651922frow7_col0\" class=\"data row7 col0\" >12</td>\n                        <td id=\"T_6d3b1c7b_958c_11eb_b94c_e442a651922frow7_col1\" class=\"data row7 col1\" >2.08%</td>\n            </tr>\n    </tbody></table>"
     },
     "metadata": {},
     "execution_count": 34
    }
   ],
   "source": [
    "#Create the bins required for this part of the analysis \n",
    "bins = [ 0, 9.99, 14.99, 19.99, 24.99, 29.99, 34.99, 39.99, 1000]\n",
    "\n",
    "\n",
    "#Create the labels for the age groups \n",
    "age_groups = [\"<10\", \"10-14\", \"15-19\", \"20-24\", \"25-29\", \"30-34\", \"35-39\", \"40+\"]\n",
    "\n",
    "\n",
    "#Append a new column to the original data called \"Age Group\" and sort the values in the \"Age\" column of the original data based on the bins and labels created above \n",
    "purchasedata[\"Age Group\"] = pd.cut(purchasedata[\"Age\"], bins, labels=age_groups)\n",
    "\n",
    "#Run the \"groupby\" function on the \"Age Group\" column, creating a new dataframe that is sorted by age group\n",
    "grouped_age = purchasedata.groupby(\"Age Group\")\n",
    "grouped_age\n",
    "\n",
    "#The total number of players in each age group is found by using the \".nunique()\" function on the \"SN\" column\n",
    "total_players_age = grouped_age[\"SN\"].nunique()\n",
    "\n",
    "\n",
    "#Calculate the percentage of players for each category \n",
    "age_bins_percentage = (total_players_age/total_players)*100\n",
    "\n",
    "#Create a dataframe from the information collected \n",
    "age_demographics_df = pd.DataFrame({\n",
    "    \"Total Players\" : total_players_age,\n",
    "    \"Percentage of Players\": age_bins_percentage\n",
    "})\n",
    "\n",
    "# Format percentage with two decimal places \n",
    "age_demographics_df = age_demographics_df.style.format({\"Percentage of Players\":\"{:,.2f}%\"})\n",
    "\n",
    "#Display the data frame\n",
    "age_demographics_df"
   ]
  },
  {
   "cell_type": "code",
   "execution_count": null,
   "metadata": {},
   "outputs": [],
   "source": []
  }
 ]
}