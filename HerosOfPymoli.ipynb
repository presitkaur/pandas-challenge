{
 "metadata": {
  "language_info": {
   "codemirror_mode": {
    "name": "ipython",
    "version": 3
   },
   "file_extension": ".py",
   "mimetype": "text/x-python",
   "name": "python",
   "nbconvert_exporter": "python",
   "pygments_lexer": "ipython3",
   "version": "3.8.5-final"
  },
  "orig_nbformat": 2,
  "kernelspec": {
   "name": "python385jvsc74a57bd0f68230855de34fbc1f1e1b102a7b521beacb83584710a0e7dced917824e6d9cf",
   "display_name": "Python 3.8.5 64-bit (conda)"
  }
 },
 "nbformat": 4,
 "nbformat_minor": 2,
 "cells": [
  {
   "cell_type": "code",
   "execution_count": 2,
   "metadata": {},
   "outputs": [],
   "source": [
    "#Import the dependencies required as well as the resource file \n",
    "import pandas as pd \n",
    "import numpy as np "
   ]
  },
  {
   "cell_type": "code",
   "execution_count": 3,
   "metadata": {},
   "outputs": [],
   "source": [
    "resource = \"Resources/purchase_data.csv\"\n",
    "purchasedata = pd.read_csv(resource)\n",
    "purchasedata.head(4);"
   ]
  },
  {
   "source": [
    "# Player Count"
   ],
   "cell_type": "markdown",
   "metadata": {}
  },
  {
   "cell_type": "code",
   "execution_count": 4,
   "metadata": {},
   "outputs": [
    {
     "output_type": "execute_result",
     "data": {
      "text/plain": [
       "   Total Players\n",
       "0            576"
      ],
      "text/html": "<div>\n<style scoped>\n    .dataframe tbody tr th:only-of-type {\n        vertical-align: middle;\n    }\n\n    .dataframe tbody tr th {\n        vertical-align: top;\n    }\n\n    .dataframe thead th {\n        text-align: right;\n    }\n</style>\n<table border=\"1\" class=\"dataframe\">\n  <thead>\n    <tr style=\"text-align: right;\">\n      <th></th>\n      <th>Total Players</th>\n    </tr>\n  </thead>\n  <tbody>\n    <tr>\n      <th>0</th>\n      <td>576</td>\n    </tr>\n  </tbody>\n</table>\n</div>"
     },
     "metadata": {},
     "execution_count": 4
    }
   ],
   "source": [
    "#Find the total number of unique players within the \"SN\" column to find the total number of players\n",
    "total_players = len(purchasedata[\"SN\"].value_counts())\n",
    "\n",
    "#Create a dataframe using \"pd.DataFrame\"\n",
    "total_players_df = pd.DataFrame({\n",
    "    \"Total Players\" : [total_players]\n",
    "})\n",
    "\n",
    "total_players_df"
   ]
  },
  {
   "source": [
    "# Purchasing Analytics"
   ],
   "cell_type": "markdown",
   "metadata": {}
  },
  {
   "cell_type": "code",
   "execution_count": 8,
   "metadata": {},
   "outputs": [
    {
     "output_type": "execute_result",
     "data": {
      "text/plain": [
       "   Number of Unique Items Average Price  Number of Purchases Total Revenue\n",
       "0                     179         $3.05                  780      $2379.77"
      ],
      "text/html": "<div>\n<style scoped>\n    .dataframe tbody tr th:only-of-type {\n        vertical-align: middle;\n    }\n\n    .dataframe tbody tr th {\n        vertical-align: top;\n    }\n\n    .dataframe thead th {\n        text-align: right;\n    }\n</style>\n<table border=\"1\" class=\"dataframe\">\n  <thead>\n    <tr style=\"text-align: right;\">\n      <th></th>\n      <th>Number of Unique Items</th>\n      <th>Average Price</th>\n      <th>Number of Purchases</th>\n      <th>Total Revenue</th>\n    </tr>\n  </thead>\n  <tbody>\n    <tr>\n      <th>0</th>\n      <td>179</td>\n      <td>$3.05</td>\n      <td>780</td>\n      <td>$2379.77</td>\n    </tr>\n  </tbody>\n</table>\n</div>"
     },
     "metadata": {},
     "execution_count": 8
    }
   ],
   "source": [
    "#Find the number of unique items by running the \"len\" command on the \"Item ID\" column of the resource file\n",
    "unique_items = len((purchasedata[\"Item ID\"]).unique())\n",
    "\n",
    "\n",
    "#The average price can be found by running the \".mean()\" function on the \"price column\"\n",
    "avgprice = purchasedata[\"Price\"].mean()\n",
    "## Format the infromation stored in the \"avgprice\" variable to increase readability\n",
    "avgprice = \"${:.2f}\".format(avgprice)\n",
    "\n",
    "\n",
    "#Thr \".count()\" function will find the total of the rows in the \"Purchase ID\" column\n",
    "num_purchases = purchasedata[\"Purchase ID\"].count()\n",
    "\n",
    "\n",
    "#The total revenue is found through the sum of all the values in the \"Price\" column\n",
    "revenue = purchasedata[\"Price\"].sum()\n",
    "## Format the infromation stored in the \"avgprice\" variable to increase readability\n",
    "revenue = \"${:.2f}\".format(revenue)\n",
    "\n",
    "\n",
    "#Construct the dataframe for the information found\n",
    "purchase_analytics_df = pd.DataFrame({\n",
    "    \"Number of Unique Items\" : [unique_items],\n",
    "    \"Average Price\" : [avgprice],\n",
    "    \"Number of Purchases\" : [num_purchases],\n",
    "    \"Total Revenue\" : [revenue]\n",
    "})\n",
    "\n",
    "\n",
    "#Display the dataframe\n",
    "purchase_analytics_df"
   ]
  },
  {
   "source": [
    "# Gender Demographics "
   ],
   "cell_type": "markdown",
   "metadata": {}
  },
  {
   "cell_type": "code",
   "execution_count": 12,
   "metadata": {},
   "outputs": [
    {
     "output_type": "execute_result",
     "data": {
      "text/plain": [
       "                      Total Unique Players (Count) Percentage of the Total\n",
       "Male                                           484                  84.03%\n",
       "Female                                          81                  14.06%\n",
       "Other/ Non-Disclosed                            11                   1.91%"
      ],
      "text/html": "<div>\n<style scoped>\n    .dataframe tbody tr th:only-of-type {\n        vertical-align: middle;\n    }\n\n    .dataframe tbody tr th {\n        vertical-align: top;\n    }\n\n    .dataframe thead th {\n        text-align: right;\n    }\n</style>\n<table border=\"1\" class=\"dataframe\">\n  <thead>\n    <tr style=\"text-align: right;\">\n      <th></th>\n      <th>Total Unique Players (Count)</th>\n      <th>Percentage of the Total</th>\n    </tr>\n  </thead>\n  <tbody>\n    <tr>\n      <th>Male</th>\n      <td>484</td>\n      <td>84.03%</td>\n    </tr>\n    <tr>\n      <th>Female</th>\n      <td>81</td>\n      <td>14.06%</td>\n    </tr>\n    <tr>\n      <th>Other/ Non-Disclosed</th>\n      <td>11</td>\n      <td>1.91%</td>\n    </tr>\n  </tbody>\n</table>\n</div>"
     },
     "metadata": {},
     "execution_count": 12
    }
   ],
   "source": [
    "#Collect the data in the \"Gender\" column and split the data in the resource file into variables based on the genders listed.\n",
    "male_data = purchasedata[purchasedata.Gender == \"Male\"]\n",
    "female_data = purchasedata[purchasedata.Gender == \"Female\"]\n",
    "other_gender_data = purchasedata[purchasedata.Gender == \"Other / Non-Disclosed\"]\n",
    "\n",
    "\n",
    "#Find the total number of unique players for each gender \n",
    "##Acheieved through running the \"unique()\" function on the \"SN\" column \n",
    "male_count = len(male_data.SN.unique())\n",
    "female_count = len(female_data.SN.unique())\n",
    "other_count = len(other_gender_data.SN.unique())\n",
    "\n",
    "\n",
    "#Find the percentage of total players by dividing the count for each gender by the total number of players \n",
    "male_percent = (male_count/total_players)*100\n",
    "female_percent = (female_count/total_players)*100\n",
    "other_percent = (other_count/total_players)*100\n",
    "\n",
    "#Format the percentages to increase readability \n",
    "male_percent = \"{:.2f}%\".format(male_percent)\n",
    "female_percent = \"{:.2f}%\".format(female_percent)\n",
    "other_percent = \"{:.2f}%\".format(other_percent)\n",
    "\n",
    "\n",
    "#Construct a dataframe for the information collected \n",
    "gender_demographics = pd.DataFrame({\n",
    "    \"Total Unique Players (Count)\": [male_count, female_count, other_count],\n",
    "    \"Percentage of the Total\": [male_percent,female_percent,other_percent]},\n",
    "    index = [\"Male\", \"Female\", \"Other/ Non-Disclosed\"])\n",
    "\n",
    "#Display the dataframe\n",
    "gender_demographics"
   ]
  },
  {
   "cell_type": "code",
   "execution_count": null,
   "metadata": {},
   "outputs": [],
   "source": []
  }
 ]
}